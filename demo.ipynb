{
 "cells": [
  {
   "cell_type": "code",
   "execution_count": null,
   "metadata": {},
   "outputs": [],
   "source": [
    "import pandas as pd\n",
    "import sys\n",
    "import os\n",
    "import clip as clip\n",
    "import wandb\n",
    "wandb.login()\n",
    "\n",
    "%reload_ext autoreload\n",
    "%autoreload 2"
   ]
  },
  {
   "cell_type": "markdown",
   "metadata": {},
   "source": [
    "# Data Loading"
   ]
  },
  {
   "cell_type": "code",
   "execution_count": 3,
   "metadata": {},
   "outputs": [],
   "source": [
    "img = pd.read_table(f'...', sep='\\t', index_col=0)\n",
    "ppi = pd.read_table(f'..', sep='\\t', index_col=0)"
   ]
  },
  {
   "cell_type": "code",
   "execution_count": 4,
   "metadata": {},
   "outputs": [
    {
     "name": "stdout",
     "output_type": "stream",
     "text": [
      "876\n"
     ]
    }
   ],
   "source": [
    "overlapping_proteins = list(set(img.index.values).intersection(set(ppi.index.values)))\n",
    "print(len(overlapping_proteins))"
   ]
  },
  {
   "cell_type": "code",
   "execution_count": 5,
   "metadata": {},
   "outputs": [],
   "source": [
    "img = img.loc[overlapping_proteins]\n",
    "ppi = ppi.loc[overlapping_proteins]"
   ]
  },
  {
   "cell_type": "markdown",
   "metadata": {},
   "source": [
    "# ModelTrain"
   ]
  },
  {
   "cell_type": "code",
   "execution_count": null,
   "metadata": {},
   "outputs": [],
   "source": [
    "wandb.finish()\n",
    "img_features = img\n",
    "ppi_features = ppi\n",
    "\n",
    "wandb.init(\n",
    "    # Set the project where this run will be logged\n",
    "    project=\"contrastive_learning\",\n",
    "    # We pass a run name (otherwise it’ll be randomly assigned, like sunshine-lollypop-10)\n",
    "    name=f\"exp-1\",\n",
    "    # Track hyperparameters and run metadata\n",
    "    config={\n",
    "        \"learning_rate\": 1e-4,\n",
    "        \"model\": \"ClipModel\",\n",
    "        \"epochs\": 100,\n",
    "        \"batch_size\": 128,\n",
    "        \"dropout\": 0.1,  # 0.25\n",
    "        \"latent_dim\": 128,  # output dim of embedding\n",
    "        \"hidden_dim\": 512,\n",
    "        \"imgdim\": img_features.shape[1],  # input dim of image\n",
    "        \"ppidim\": ppi_features.shape[1],  # input dim of ppi\n",
    "        \"n_sample\": img_features.shape[0],\n",
    "    },\n",
    ")"
   ]
  },
  {
   "cell_type": "code",
   "execution_count": null,
   "metadata": {},
   "outputs": [],
   "source": [
    "resultsdir = f\"...\" # where to save the embeddings and model artifact\n",
    "if not os.path.exists(resultsdir):\n",
    "    os.makedirs(resultsdir, exist_ok=True)\n",
    "    \n",
    "model = clip.clip_fit_predict(\n",
    "    resultsdir=resultsdir,\n",
    "    index_names=overlapping_proteins,\n",
    "    data_ppi=ppi_features.values,\n",
    "    data_img=img_features.values,\n",
    "    config=wandb.config,\n",
    "    wandb=wandb,\n",
    ")\n",
    "wandb.finish()"
   ]
  }
 ],
 "metadata": {
  "kernelspec": {
   "display_name": "music",
   "language": "python",
   "name": "python3"
  },
  "language_info": {
   "codemirror_mode": {
    "name": "ipython",
    "version": 3
   },
   "file_extension": ".py",
   "mimetype": "text/x-python",
   "name": "python",
   "nbconvert_exporter": "python",
   "pygments_lexer": "ipython3",
   "version": "3.8.16"
  },
  "orig_nbformat": 4
 },
 "nbformat": 4,
 "nbformat_minor": 2
}
